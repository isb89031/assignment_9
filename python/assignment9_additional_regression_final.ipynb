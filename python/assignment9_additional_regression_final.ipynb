{
 "cells": [
  {
   "cell_type": "markdown",
   "id": "ea14c0fb",
   "metadata": {},
   "source": [
    "### Import Libraries"
   ]
  },
  {
   "cell_type": "code",
   "execution_count": null,
   "id": "a45d0752",
   "metadata": {},
   "outputs": [],
   "source": [
    "import pandas as pd\n",
    "import seaborn as sns\n",
    "import numpy as np\n",
    "import matplotlib.pyplot as plt\n",
    "from xgboost.sklearn import XGBRegressor\n",
    "from sklearn.svm import SVR\n",
    "from sklearn.metrics import plot_roc_curve\n",
    "from sklearn.model_selection import train_test_split, GridSearchCV \n",
    "from sklearn.linear_model import LinearRegression\n",
    "from sklearn.ensemble import RandomForestRegressor\n",
    "from sklearn.pipeline import Pipeline\n",
    "from sklearn.impute import SimpleImputer\n",
    "from sklearn.preprocessing import StandardScaler, OneHotEncoder\n",
    "from sklearn.compose import ColumnTransformer #transform different types\n",
    "from sklearn.metrics import mean_squared_error, r2_score, mean_absolute_error, accuracy_score\n",
    "from math import sqrt"
   ]
  },
  {
   "cell_type": "markdown",
   "id": "0201269a",
   "metadata": {},
   "source": [
    "### Data"
   ]
  },
  {
   "cell_type": "code",
   "execution_count": null,
   "id": "50af9909",
   "metadata": {},
   "outputs": [],
   "source": [
    "# Load Boston housing dataset\n",
    "from sklearn.datasets import load_boston\n",
    "boston = load_boston()"
   ]
  },
  {
   "cell_type": "code",
   "execution_count": null,
   "id": "492c793f",
   "metadata": {},
   "outputs": [],
   "source": [
    "print(boston.keys())\n",
    "print(boston.DESCR)\n",
    "#print(boston.feature_names)\n",
    "#print(type(boston))"
   ]
  },
  {
   "cell_type": "code",
   "execution_count": null,
   "id": "613c0313",
   "metadata": {},
   "outputs": [],
   "source": [
    "df = pd.DataFrame(boston.data, columns=boston.feature_names)\n",
    "df['MEDV'] = boston.target\n",
    "df.shape"
   ]
  },
  {
   "cell_type": "code",
   "execution_count": null,
   "id": "451df3a2",
   "metadata": {},
   "outputs": [],
   "source": [
    "df.isnull().sum()"
   ]
  },
  {
   "cell_type": "code",
   "execution_count": null,
   "id": "ed916510",
   "metadata": {},
   "outputs": [],
   "source": [
    "df.describe()"
   ]
  },
  {
   "cell_type": "code",
   "execution_count": null,
   "id": "afd2d7d6",
   "metadata": {},
   "outputs": [],
   "source": [
    "#df.info()"
   ]
  },
  {
   "cell_type": "markdown",
   "id": "1fbb9024",
   "metadata": {},
   "source": [
    "### Split into Training and Test Datasets"
   ]
  },
  {
   "cell_type": "code",
   "execution_count": null,
   "id": "622e2757",
   "metadata": {},
   "outputs": [],
   "source": [
    "# features from the dataset\n",
    "features = ['CRIM','ZN','INDUS','CHAS','NOX','RM','AGE','DIS','RAD','TAX','PTRATIO','B','LSTAT']\n",
    "X = df[features].copy()\n",
    "y = df['MEDV'].copy()\n",
    "\n",
    "X_train, X_test, y_train, y_test = train_test_split(X, y, test_size=0.3, random_state=1)"
   ]
  },
  {
   "cell_type": "markdown",
   "id": "53ee8eca",
   "metadata": {},
   "source": [
    "### Pipelines: Pre-Processing Stage"
   ]
  },
  {
   "cell_type": "code",
   "execution_count": null,
   "id": "7e804f71",
   "metadata": {},
   "outputs": [],
   "source": [
    "numerical_features = features\n",
    "# Applying SimpleImputer and StandardScaler into a pipeline\n",
    "numerical_transformer = Pipeline(steps=[\n",
    "    ('imputer', SimpleImputer()),\n",
    "    ('scaler', StandardScaler())])"
   ]
  },
  {
   "cell_type": "code",
   "execution_count": null,
   "id": "67027ddc",
   "metadata": {},
   "outputs": [],
   "source": [
    "data_transformer = ColumnTransformer(\n",
    "    transformers=[('numerical', numerical_transformer, numerical_features)]) "
   ]
  },
  {
   "cell_type": "code",
   "execution_count": null,
   "id": "8caa4e8b",
   "metadata": {},
   "outputs": [],
   "source": [
    "# Important note: Parameters of pipelines are set using '__' separated parameter names\n",
    "param_grid = {\n",
    "    'data_transformer__numerical__imputer__strategy': ['mean', 'median','most_frequent']\n",
    "}"
   ]
  },
  {
   "cell_type": "markdown",
   "id": "d4ddda71",
   "metadata": {},
   "source": [
    "### Pipeline with Linear Regression"
   ]
  },
  {
   "cell_type": "code",
   "execution_count": null,
   "id": "ac8bcb1b",
   "metadata": {},
   "outputs": [],
   "source": [
    "pipe_lm = Pipeline(steps=[('data_transformer', data_transformer),\n",
    "                          ('pipe_lm', LinearRegression())])\n",
    "\n",
    "grid_lm = GridSearchCV(pipe_lm, param_grid=param_grid) #default cv is 5-fold\n",
    "grid_lm.fit(X_train, y_train);"
   ]
  },
  {
   "cell_type": "code",
   "execution_count": null,
   "id": "1b160de7",
   "metadata": {},
   "outputs": [],
   "source": [
    "print(grid_lm.best_score_)  #mean cross-validated score of the best_estimator\n",
    "print(grid_lm.best_params_)\n",
    "#print(grid_lm.best_estimator_)\n",
    "\n",
    "#Reference -- https://scikit-learn.org/stable/modules/grid_search.html#specifying-an-objective-metric\n",
    "#By default, parameter search uses the score function of the estimator to evaluate a parameter \n",
    "#setting. These are the sklearn.metrics.accuracy_score for classification and \n",
    "#sklearn.metrics.r2_score for regression."
   ]
  },
  {
   "cell_type": "code",
   "execution_count": null,
   "id": "335f4a1c",
   "metadata": {},
   "outputs": [],
   "source": [
    "#grid_lm.cv_results_"
   ]
  },
  {
   "cell_type": "code",
   "execution_count": null,
   "id": "f1a02e01",
   "metadata": {},
   "outputs": [],
   "source": [
    "y_predict_lm = grid_lm.predict(X_test)\n",
    "\n",
    "sns.regplot(x=y_predict_lm, y=y_test, color='red', marker=\"^\")\n",
    "plt.xlabel(\"Predicted Price\")\n",
    "plt.ylabel(\"Actual Price\")\n",
    "plt.title(\"Linear Regression Model\")\n",
    "plt.show()"
   ]
  },
  {
   "cell_type": "code",
   "execution_count": null,
   "id": "be2915b8",
   "metadata": {},
   "outputs": [],
   "source": [
    "RMSE= np.sqrt(mean_squared_error(y_test, y_predict_lm))\n",
    "MSE= mean_squared_error(y_test, y_predict_lm)\n",
    "MAE= mean_absolute_error(y_test, y_predict_lm)\n",
    "r2= r2_score(y_test, y_predict_lm)\n",
    "\n",
    "print('RMSE =', RMSE)\n",
    "print('MSE =', MSE)\n",
    "print('MAE =', MAE)\n",
    "print('R2 =', r2) "
   ]
  },
  {
   "cell_type": "markdown",
   "id": "3f31cf04",
   "metadata": {},
   "source": [
    "### Pipeline with Random Forest Regressor"
   ]
  },
  {
   "cell_type": "code",
   "execution_count": null,
   "id": "7550ed50",
   "metadata": {},
   "outputs": [],
   "source": [
    "pipe_rf = Pipeline(steps=[('data_transformer', data_transformer),\n",
    "                           ('pipe_rf', RandomForestRegressor(random_state=0))])\n",
    "\n",
    "grid_rf = GridSearchCV(pipe_rf, param_grid=param_grid)\n",
    "grid_rf.fit(X_train, y_train);"
   ]
  },
  {
   "cell_type": "code",
   "execution_count": null,
   "id": "5b5d6e9e",
   "metadata": {},
   "outputs": [],
   "source": [
    "print(grid_rf.best_score_)\n",
    "print(grid_rf.best_params_)\n",
    "#print(grid_rf.best_estimator_)"
   ]
  },
  {
   "cell_type": "code",
   "execution_count": null,
   "id": "b64cb7d8",
   "metadata": {},
   "outputs": [],
   "source": [
    "y_predict_rf = grid_rf.predict(X_test)\n",
    "\n",
    "sns.regplot(x=y_predict_rf, y=y_test, color = 'green', marker = \"D\")\n",
    "plt.xlabel(\"Predicted Price\")\n",
    "plt.ylabel(\"Actual Price\")\n",
    "plt.title(\"Random Forest Model\")\n",
    "plt.show()"
   ]
  },
  {
   "cell_type": "code",
   "execution_count": null,
   "id": "4f859002",
   "metadata": {},
   "outputs": [],
   "source": [
    "RMSE= np.sqrt(mean_squared_error(y_test, y_predict_rf))\n",
    "MSE= mean_squared_error(y_test, y_predict_rf)\n",
    "MAE= mean_absolute_error(y_test, y_predict_rf)\n",
    "r2= r2_score(y_test, y_predict_rf)\n",
    "\n",
    "print('RMSE =', RMSE)\n",
    "print('MSE =', MSE)\n",
    "print('MAE =', MAE)\n",
    "print('R2 =', r2) "
   ]
  },
  {
   "cell_type": "markdown",
   "id": "d88d0566",
   "metadata": {},
   "source": [
    "### Pipeline with XGBoost Regressor"
   ]
  },
  {
   "cell_type": "code",
   "execution_count": null,
   "id": "7ea8468b",
   "metadata": {},
   "outputs": [],
   "source": [
    "pipe_xgb = Pipeline(steps=[('data_transformer', data_transformer),\n",
    "                           ('pipe_xgb', XGBRegressor(random_state=0))])\n",
    "                           \n",
    "grid_xgb = GridSearchCV(pipe_xgb, param_grid=param_grid)  #default cv is 5-fold\n",
    "grid_xgb.fit(X_train, y_train);"
   ]
  },
  {
   "cell_type": "code",
   "execution_count": null,
   "id": "8353a0f6",
   "metadata": {},
   "outputs": [],
   "source": [
    "#XGBRegressor()"
   ]
  },
  {
   "cell_type": "code",
   "execution_count": null,
   "id": "1953f915",
   "metadata": {},
   "outputs": [],
   "source": [
    "print(grid_xgb.best_score_)\n",
    "print(grid_xgb.best_params_)\n",
    "#print(grid_xgb.best_estimator_)"
   ]
  },
  {
   "cell_type": "code",
   "execution_count": null,
   "id": "59eab789",
   "metadata": {},
   "outputs": [],
   "source": [
    "y_predict_xgb = grid_xgb.predict(X_test)\n",
    "\n",
    "sns.regplot(x=y_predict_xgb, y=y_test, color='blue', marker = \"o\")\n",
    "plt.xlabel(\"Predicted Price\")\n",
    "plt.ylabel(\"Actual Price\")\n",
    "plt.title(\"XGBoost Model\")\n",
    "plt.show()"
   ]
  },
  {
   "cell_type": "code",
   "execution_count": null,
   "id": "baac581e",
   "metadata": {},
   "outputs": [],
   "source": [
    "RMSE= np.sqrt(mean_squared_error(y_test, y_predict_xgb))\n",
    "MSE= mean_squared_error(y_test, y_predict_xgb)\n",
    "MAE= mean_absolute_error(y_test, y_predict_xgb)\n",
    "r2= r2_score(y_test, y_predict_xgb)\n",
    "\n",
    "print('RMSE =', RMSE)\n",
    "print('MSE =', MSE)\n",
    "print('MAE =', MAE)\n",
    "print('R2 =', r2) "
   ]
  },
  {
   "cell_type": "markdown",
   "id": "032b2004",
   "metadata": {},
   "source": [
    "### Pipeline with Support Vector Regressor"
   ]
  },
  {
   "cell_type": "code",
   "execution_count": null,
   "id": "e827a341",
   "metadata": {},
   "outputs": [],
   "source": [
    "pipe_svr = Pipeline(steps=[('data_transformer', data_transformer),\n",
    "                           ('pipe_svr', SVR())])\n",
    "                           \n",
    "grid_svr = GridSearchCV(pipe_svr, param_grid=param_grid)  \n",
    "grid_svr.fit(X_train, y_train);\n",
    "\n",
    "#Reference links:\n",
    "#https://scikit-learn.org/stable/modules/svm.html\n",
    "#https://scikit-learn.org/stable/modules/generated/sklearn.svm.SVR.html\n",
    "#https://medium.com/coinmonks/support-vector-regression-or-svr-8eb3acf6d0ff"
   ]
  },
  {
   "cell_type": "code",
   "execution_count": null,
   "id": "b72777eb",
   "metadata": {},
   "outputs": [],
   "source": [
    "print(grid_svr.best_score_)\n",
    "print(grid_svr.best_params_)\n",
    "#print(grid_svr.best_estimator_)"
   ]
  },
  {
   "cell_type": "code",
   "execution_count": null,
   "id": "db071efd",
   "metadata": {},
   "outputs": [],
   "source": [
    "y_predict_svr = grid_svr.predict(X_test)\n",
    "\n",
    "sns.regplot(x=y_predict_svr, y=y_test, color='black', marker = \"*\")\n",
    "plt.xlabel(\"Predicted Price\")\n",
    "plt.ylabel(\"Actual Price\")\n",
    "plt.title(\"Support Vector Regressor Model\")\n",
    "plt.show()"
   ]
  },
  {
   "cell_type": "code",
   "execution_count": null,
   "id": "33768085",
   "metadata": {},
   "outputs": [],
   "source": [
    "RMSE= np.sqrt(mean_squared_error(y_test, y_predict_svr))\n",
    "MSE= mean_squared_error(y_test, y_predict_svr)\n",
    "MAE= mean_absolute_error(y_test, y_predict_svr)\n",
    "r2= r2_score(y_test, y_predict_svr)\n",
    "\n",
    "print('RMSE =', RMSE)\n",
    "print('MSE =', MSE)\n",
    "print('MAE =', MAE)\n",
    "print('R2 =', r2) "
   ]
  },
  {
   "cell_type": "markdown",
   "id": "144fb5a0",
   "metadata": {},
   "source": [
    "### References"
   ]
  },
  {
   "cell_type": "markdown",
   "id": "59a26eff",
   "metadata": {},
   "source": [
    "* https://amitg0161.medium.com/sklearn-linear-regression-tutorial-with-boston-house-dataset-cde74afd460a\n",
    "\n",
    "* https://www.educative.io/blog/scikit-learn-cheat-sheet-classification-regression-methods\n",
    "\n",
    "* https://www.kaggle.com/amar09/regression-algorithms-using-scikit-learn\n"
   ]
  },
  {
   "cell_type": "code",
   "execution_count": null,
   "id": "8857e95d",
   "metadata": {},
   "outputs": [],
   "source": []
  }
 ],
 "metadata": {
  "kernelspec": {
   "display_name": "Python 3",
   "language": "python",
   "name": "python3"
  },
  "language_info": {
   "codemirror_mode": {
    "name": "ipython",
    "version": 3
   },
   "file_extension": ".py",
   "mimetype": "text/x-python",
   "name": "python",
   "nbconvert_exporter": "python",
   "pygments_lexer": "ipython3",
   "version": "3.8.8"
  }
 },
 "nbformat": 4,
 "nbformat_minor": 5
}
